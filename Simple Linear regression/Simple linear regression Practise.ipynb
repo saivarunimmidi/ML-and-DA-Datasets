{
 "cells": [
  {
   "cell_type": "code",
   "execution_count": 2,
   "metadata": {},
   "outputs": [],
   "source": [
    "# importing useful libraries\n",
    "import warnings\n",
    "warnings.filterwarnings('ignore')\n",
    "import numpy as np\n",
    "import pandas as pd\n",
    "import matplotlib.pyplot as plt\n",
    "import seaborn as sns\n",
    "%matplotlib inline\n",
    "import sklearn\n",
    "import statsmodels.api as sm\n",
    "from sklearn.model_selection import train_test_split"
   ]
  },
  {
   "cell_type": "code",
   "execution_count": 3,
   "metadata": {},
   "outputs": [],
   "source": [
    "# read the data\n",
    "advertisment_dataframe = pd.read_csv(r'advertising.csv')"
   ]
  },
  {
   "cell_type": "code",
   "execution_count": 4,
   "metadata": {},
   "outputs": [
    {
     "data": {
      "text/html": [
       "<div>\n",
       "<style scoped>\n",
       "    .dataframe tbody tr th:only-of-type {\n",
       "        vertical-align: middle;\n",
       "    }\n",
       "\n",
       "    .dataframe tbody tr th {\n",
       "        vertical-align: top;\n",
       "    }\n",
       "\n",
       "    .dataframe thead th {\n",
       "        text-align: right;\n",
       "    }\n",
       "</style>\n",
       "<table border=\"1\" class=\"dataframe\">\n",
       "  <thead>\n",
       "    <tr style=\"text-align: right;\">\n",
       "      <th></th>\n",
       "      <th>TV</th>\n",
       "      <th>Radio</th>\n",
       "      <th>Newspaper</th>\n",
       "      <th>Sales</th>\n",
       "    </tr>\n",
       "  </thead>\n",
       "  <tbody>\n",
       "    <tr>\n",
       "      <th>0</th>\n",
       "      <td>230.1</td>\n",
       "      <td>37.8</td>\n",
       "      <td>69.2</td>\n",
       "      <td>22.1</td>\n",
       "    </tr>\n",
       "    <tr>\n",
       "      <th>1</th>\n",
       "      <td>44.5</td>\n",
       "      <td>39.3</td>\n",
       "      <td>45.1</td>\n",
       "      <td>10.4</td>\n",
       "    </tr>\n",
       "    <tr>\n",
       "      <th>2</th>\n",
       "      <td>17.2</td>\n",
       "      <td>45.9</td>\n",
       "      <td>69.3</td>\n",
       "      <td>12.0</td>\n",
       "    </tr>\n",
       "    <tr>\n",
       "      <th>3</th>\n",
       "      <td>151.5</td>\n",
       "      <td>41.3</td>\n",
       "      <td>58.5</td>\n",
       "      <td>16.5</td>\n",
       "    </tr>\n",
       "    <tr>\n",
       "      <th>4</th>\n",
       "      <td>180.8</td>\n",
       "      <td>10.8</td>\n",
       "      <td>58.4</td>\n",
       "      <td>17.9</td>\n",
       "    </tr>\n",
       "  </tbody>\n",
       "</table>\n",
       "</div>"
      ],
      "text/plain": [
       "      TV  Radio  Newspaper  Sales\n",
       "0  230.1   37.8       69.2   22.1\n",
       "1   44.5   39.3       45.1   10.4\n",
       "2   17.2   45.9       69.3   12.0\n",
       "3  151.5   41.3       58.5   16.5\n",
       "4  180.8   10.8       58.4   17.9"
      ]
     },
     "execution_count": 4,
     "metadata": {},
     "output_type": "execute_result"
    }
   ],
   "source": [
    "# analyzing the dataframe\n",
    "advertisment_dataframe.head()"
   ]
  },
  {
   "cell_type": "code",
   "execution_count": 5,
   "metadata": {},
   "outputs": [
    {
     "data": {
      "text/plain": [
       "(200, 4)"
      ]
     },
     "execution_count": 5,
     "metadata": {},
     "output_type": "execute_result"
    }
   ],
   "source": [
    "# analyzing the shape of the dataframe\n",
    "advertisment_dataframe.shape"
   ]
  },
  {
   "cell_type": "code",
   "execution_count": 6,
   "metadata": {},
   "outputs": [
    {
     "name": "stdout",
     "output_type": "stream",
     "text": [
      "<class 'pandas.core.frame.DataFrame'>\n",
      "RangeIndex: 200 entries, 0 to 199\n",
      "Data columns (total 4 columns):\n",
      " #   Column     Non-Null Count  Dtype  \n",
      "---  ------     --------------  -----  \n",
      " 0   TV         200 non-null    float64\n",
      " 1   Radio      200 non-null    float64\n",
      " 2   Newspaper  200 non-null    float64\n",
      " 3   Sales      200 non-null    float64\n",
      "dtypes: float64(4)\n",
      "memory usage: 6.4 KB\n"
     ]
    }
   ],
   "source": [
    "# analyzing the info of the dataframe\n",
    "advertisment_dataframe.info()"
   ]
  },
  {
   "cell_type": "markdown",
   "metadata": {},
   "source": [
    "The above information about the dataframe indicates that there are no null values in the dataframe and all are float values present in the dataframe."
   ]
  },
  {
   "cell_type": "code",
   "execution_count": 7,
   "metadata": {},
   "outputs": [
    {
     "data": {
      "text/html": [
       "<div>\n",
       "<style scoped>\n",
       "    .dataframe tbody tr th:only-of-type {\n",
       "        vertical-align: middle;\n",
       "    }\n",
       "\n",
       "    .dataframe tbody tr th {\n",
       "        vertical-align: top;\n",
       "    }\n",
       "\n",
       "    .dataframe thead th {\n",
       "        text-align: right;\n",
       "    }\n",
       "</style>\n",
       "<table border=\"1\" class=\"dataframe\">\n",
       "  <thead>\n",
       "    <tr style=\"text-align: right;\">\n",
       "      <th></th>\n",
       "      <th>TV</th>\n",
       "      <th>Radio</th>\n",
       "      <th>Newspaper</th>\n",
       "      <th>Sales</th>\n",
       "    </tr>\n",
       "  </thead>\n",
       "  <tbody>\n",
       "    <tr>\n",
       "      <th>count</th>\n",
       "      <td>200.000000</td>\n",
       "      <td>200.000000</td>\n",
       "      <td>200.000000</td>\n",
       "      <td>200.000000</td>\n",
       "    </tr>\n",
       "    <tr>\n",
       "      <th>mean</th>\n",
       "      <td>147.042500</td>\n",
       "      <td>23.264000</td>\n",
       "      <td>30.554000</td>\n",
       "      <td>15.130500</td>\n",
       "    </tr>\n",
       "    <tr>\n",
       "      <th>std</th>\n",
       "      <td>85.854236</td>\n",
       "      <td>14.846809</td>\n",
       "      <td>21.778621</td>\n",
       "      <td>5.283892</td>\n",
       "    </tr>\n",
       "    <tr>\n",
       "      <th>min</th>\n",
       "      <td>0.700000</td>\n",
       "      <td>0.000000</td>\n",
       "      <td>0.300000</td>\n",
       "      <td>1.600000</td>\n",
       "    </tr>\n",
       "    <tr>\n",
       "      <th>25%</th>\n",
       "      <td>74.375000</td>\n",
       "      <td>9.975000</td>\n",
       "      <td>12.750000</td>\n",
       "      <td>11.000000</td>\n",
       "    </tr>\n",
       "    <tr>\n",
       "      <th>50%</th>\n",
       "      <td>149.750000</td>\n",
       "      <td>22.900000</td>\n",
       "      <td>25.750000</td>\n",
       "      <td>16.000000</td>\n",
       "    </tr>\n",
       "    <tr>\n",
       "      <th>75%</th>\n",
       "      <td>218.825000</td>\n",
       "      <td>36.525000</td>\n",
       "      <td>45.100000</td>\n",
       "      <td>19.050000</td>\n",
       "    </tr>\n",
       "    <tr>\n",
       "      <th>max</th>\n",
       "      <td>296.400000</td>\n",
       "      <td>49.600000</td>\n",
       "      <td>114.000000</td>\n",
       "      <td>27.000000</td>\n",
       "    </tr>\n",
       "  </tbody>\n",
       "</table>\n",
       "</div>"
      ],
      "text/plain": [
       "               TV       Radio   Newspaper       Sales\n",
       "count  200.000000  200.000000  200.000000  200.000000\n",
       "mean   147.042500   23.264000   30.554000   15.130500\n",
       "std     85.854236   14.846809   21.778621    5.283892\n",
       "min      0.700000    0.000000    0.300000    1.600000\n",
       "25%     74.375000    9.975000   12.750000   11.000000\n",
       "50%    149.750000   22.900000   25.750000   16.000000\n",
       "75%    218.825000   36.525000   45.100000   19.050000\n",
       "max    296.400000   49.600000  114.000000   27.000000"
      ]
     },
     "execution_count": 7,
     "metadata": {},
     "output_type": "execute_result"
    }
   ],
   "source": [
    "# analyzing the summary statistics of the dataframe\n",
    "advertisment_dataframe.describe()"
   ]
  },
  {
   "cell_type": "markdown",
   "metadata": {},
   "source": [
    "From the above describe information we can see that all the numerical variables are normally distributed about the mean."
   ]
  },
  {
   "cell_type": "code",
   "execution_count": 9,
   "metadata": {},
   "outputs": [
    {
     "data": {
      "text/plain": [
       "<seaborn.axisgrid.PairGrid at 0x1c1e35ae4e0>"
      ]
     },
     "execution_count": 9,
     "metadata": {},
     "output_type": "execute_result"
    },
    {
     "data": {
      "image/png": "[encoded data removed]",
      "text/plain": [
       "<Figure size 540x180 with 3 Axes>"
      ]
     },
     "metadata": {
      "needs_background": "light"
     },
     "output_type": "display_data"
    }
   ],
   "source": [
    "# analyzing the pair plots between the possible pairs of numerical variables present in the dataframe\n",
    "sns.pairplot(data = advertisment_dataframe, x_vars = ['TV', 'Radio', 'Newspaper'], y_vars = 'Sales')"
   ]
  },
  {
   "cell_type": "markdown",
   "metadata": {},
   "source": [
    "From the above scatter plots we can see that there exists some linear relationship between Tv and sales. Where as in radio and newspaper when compared to Sales the data points are completely scattered away from each other and the points doesn't represent any specific visible pattern. Let's further confrim whether their exists any linear relationship between TV and sales by computing correlation value betweem the same variables."
   ]
  },
  {
   "cell_type": "code",
   "execution_count": 12,
   "metadata": {},
   "outputs": [
    {
     "data": {
      "text/html": [
       "<div>\n",
       "<style scoped>\n",
       "    .dataframe tbody tr th:only-of-type {\n",
       "        vertical-align: middle;\n",
       "    }\n",
       "\n",
       "    .dataframe tbody tr th {\n",
       "        vertical-align: top;\n",
       "    }\n",
       "\n",
       "    .dataframe thead th {\n",
       "        text-align: right;\n",
       "    }\n",
       "</style>\n",
       "<table border=\"1\" class=\"dataframe\">\n",
       "  <thead>\n",
       "    <tr style=\"text-align: right;\">\n",
       "      <th></th>\n",
       "      <th>TV</th>\n",
       "      <th>Radio</th>\n",
       "      <th>Newspaper</th>\n",
       "      <th>Sales</th>\n",
       "    </tr>\n",
       "  </thead>\n",
       "  <tbody>\n",
       "    <tr>\n",
       "      <th>TV</th>\n",
       "      <td>1.000000</td>\n",
       "      <td>0.054809</td>\n",
       "      <td>0.056648</td>\n",
       "      <td>0.901208</td>\n",
       "    </tr>\n",
       "    <tr>\n",
       "      <th>Radio</th>\n",
       "      <td>0.054809</td>\n",
       "      <td>1.000000</td>\n",
       "      <td>0.354104</td>\n",
       "      <td>0.349631</td>\n",
       "    </tr>\n",
       "    <tr>\n",
       "      <th>Newspaper</th>\n",
       "      <td>0.056648</td>\n",
       "      <td>0.354104</td>\n",
       "      <td>1.000000</td>\n",
       "      <td>0.157960</td>\n",
       "    </tr>\n",
       "    <tr>\n",
       "      <th>Sales</th>\n",
       "      <td>0.901208</td>\n",
       "      <td>0.349631</td>\n",
       "      <td>0.157960</td>\n",
       "      <td>1.000000</td>\n",
       "    </tr>\n",
       "  </tbody>\n",
       "</table>\n",
       "</div>"
      ],
      "text/plain": [
       "                 TV     Radio  Newspaper     Sales\n",
       "TV         1.000000  0.054809   0.056648  0.901208\n",
       "Radio      0.054809  1.000000   0.354104  0.349631\n",
       "Newspaper  0.056648  0.354104   1.000000  0.157960\n",
       "Sales      0.901208  0.349631   0.157960  1.000000"
      ]
     },
     "execution_count": 12,
     "metadata": {},
     "output_type": "execute_result"
    }
   ],
   "source": [
    "# creating a correlation matrix\n",
    "advertistment_matrix = advertisment_dataframe.corr()\n",
    "advertistment_matrix"
   ]
  },
  {
   "cell_type": "code",
   "execution_count": 16,
   "metadata": {},
   "outputs": [
    {
     "data": {
      "text/plain": [
       "<matplotlib.axes._subplots.AxesSubplot at 0x1c1e37f54a8>"
      ]
     },
     "execution_count": 16,
     "metadata": {},
     "output_type": "execute_result"
    },
    {
     "data": {
      "image/png": "[encoded data removed]",
      "text/plain": [
       "<Figure size 432x288 with 2 Axes>"
      ]
     },
     "metadata": {
      "needs_background": "light"
     },
     "output_type": "display_data"
    }
   ],
   "source": [
    "# plotting heatmap using the above correlation matrix\n",
    "sns.heatmap(advertistment_matrix, annot = True, cmap = 'RdYlGn', linecolor= 'white', linewidths= 1)"
   ]
  },
  {
   "cell_type": "markdown",
   "metadata": {},
   "source": [
    "From the above heatmap we can observe that there exists very strong positive linear relationship between Tv and sales. Hence we can take froward for building a simple linear regression model to predict Sales when invested some amount of money in advertising usinh Tv as platform."
   ]
  },
  {
   "cell_type": "markdown",
   "metadata": {},
   "source": [
    "###### Performoing simple linear regression using Tv and Sales"
   ]
  },
  {
   "cell_type": "markdown",
   "metadata": {},
   "source": [
    "#### General equation for simple linear regression:\n",
    "- It is called simple linear regression as it involves only one independent variable.\n",
    "- y = c + mx\n",
    "- where y is the dependent variable also called as target variable or output variable\n",
    "- where x is the independent variable also called as predictor variable\n",
    "- c refers to intercept, it can be found when x value becomes equal to zero\n",
    "- m refers to slope of the line which best fits the mode.\n",
    "- the physical significance of m value is it represents how strongly the independent and         dependent variable are related to each other.\n",
    "- The purpose of simple linear regression model is to represent the data points of linear       relation in terms of an linear equation which best fits and represents the data points.\n",
    "- The goodness of the fit of the line can be understood by computing a measure called R         squared, which signifies how much variability in y can be explained by x variable."
   ]
  },
  {
   "cell_type": "markdown",
   "metadata": {},
   "source": [
    "#### Steps to perform linear regression model building\n",
    "- Create X and y variables\n",
    "- Split the data into training and testing datasets. The possible ratio of split are 70:30 or   80:20.\n",
    "- Build the model using suitable libraries like statsmodels and sklearn using the tarining       data of X variable and y variable.\n",
    "- Once model building is done perform summary statistics of the model using statsmodel inorder   to check whether the model is overall significant or not meaning significant or just         luckily happend to be fit.\n",
    "- Once the verification of siginificance of the variables and overall model is done the next     step is to evaluate the model.\n",
    "- Evaluation of model involves analysis of residuals and making predictions using testing       data.\n",
    "- Testing of model can also be done using training data as well. On both data sets it is         better to perform the evaluation of the model."
   ]
  },
  {
   "cell_type": "markdown",
   "metadata": {},
   "source": [
    "- As per the problem in hand the X and y variables of the simple linear equation can be         modified.\n",
    "- Sales = c + m* TV\n",
    "- m slope is also called as model parameters or model coefficient."
   ]
  },
  {
   "cell_type": "code",
   "execution_count": 17,
   "metadata": {},
   "outputs": [],
   "source": [
    "# creating X and y\n",
    "X = advertisment_dataframe['TV']\n",
    "y = advertisment_dataframe['Sales']"
   ]
  },
  {
   "cell_type": "code",
   "execution_count": 18,
   "metadata": {},
   "outputs": [
    {
     "data": {
      "text/plain": [
       "0    230.1\n",
       "1     44.5\n",
       "2     17.2\n",
       "3    151.5\n",
       "4    180.8\n",
       "Name: TV, dtype: float64"
      ]
     },
     "execution_count": 18,
     "metadata": {},
     "output_type": "execute_result"
    }
   ],
   "source": [
    "# analyzing the X variable\n",
    "X.head()"
   ]
  },
  {
   "cell_type": "code",
   "execution_count": 19,
   "metadata": {},
   "outputs": [
    {
     "data": {
      "text/plain": [
       "0    22.1\n",
       "1    10.4\n",
       "2    12.0\n",
       "3    16.5\n",
       "4    17.9\n",
       "Name: Sales, dtype: float64"
      ]
     },
     "execution_count": 19,
     "metadata": {},
     "output_type": "execute_result"
    }
   ],
   "source": [
    "# analyzing the y variable\n",
    "y.head()"
   ]
  },
  {
   "cell_type": "code",
   "execution_count": 20,
   "metadata": {},
   "outputs": [],
   "source": [
    "# Creating a split of the data into train and test datasets\n",
    "X_train, X_test, y_train, y_test = train_test_split(X,y, train_size = 0.70, test_size = 0.30, random_state = 100)"
   ]
  },
  {
   "cell_type": "code",
   "execution_count": 21,
   "metadata": {},
   "outputs": [
    {
     "data": {
      "text/plain": [
       "74     213.4\n",
       "3      151.5\n",
       "185    205.0\n",
       "26     142.9\n",
       "90     134.3\n",
       "Name: TV, dtype: float64"
      ]
     },
     "execution_count": 21,
     "metadata": {},
     "output_type": "execute_result"
    }
   ],
   "source": [
    "# analyzing the training datasets\n",
    "X_train.head()"
   ]
  },
  {
   "cell_type": "code",
   "execution_count": 22,
   "metadata": {},
   "outputs": [
    {
     "data": {
      "text/plain": [
       "(140,)"
      ]
     },
     "execution_count": 22,
     "metadata": {},
     "output_type": "execute_result"
    }
   ],
   "source": [
    "# analyzing the shape of the X_train dataset\n",
    "X_train.shape"
   ]
  },
  {
   "cell_type": "code",
   "execution_count": 23,
   "metadata": {},
   "outputs": [
    {
     "data": {
      "text/plain": [
       "74     17.0\n",
       "3      16.5\n",
       "185    22.6\n",
       "26     15.0\n",
       "90     14.0\n",
       "Name: Sales, dtype: float64"
      ]
     },
     "execution_count": 23,
     "metadata": {},
     "output_type": "execute_result"
    }
   ],
   "source": [
    "# analyzing the y_train dataset\n",
    "y_train.head()"
   ]
  },
  {
   "cell_type": "markdown",
   "metadata": {},
   "source": [
    "#####  Model building using statsmodel\n",
    "- By default statsmodel doesn't involve the intercept and it will result in the line equation   passing through origin.\n",
    "- If needed to add constant coefficient it is first required to add the constant and then       build the model using OLS method.\n",
    "- OLS stands for Ordinary Least Sqaure method which determines to Residual least square sum to   be minimum. Considering RSS to be the cost function of the model and then performing some\n",
    "  minimization optimization techniques like differentiation or gradient descent method to       compute the optimal values for the coefficents such that RSS value is minimum.\n",
    "- Once the model parameters are computed upon substituion them in the general simple linear     regression equation it results in model equation."
   ]
  },
  {
   "cell_type": "code",
   "execution_count": 24,
   "metadata": {},
   "outputs": [],
   "source": [
    "X_train_sm = sm.add_constant(data = X_train)"
   ]
  },
  {
   "cell_type": "code",
   "execution_count": 25,
   "metadata": {},
   "outputs": [
    {
     "data": {
      "text/html": [
       "<div>\n",
       "<style scoped>\n",
       "    .dataframe tbody tr th:only-of-type {\n",
       "        vertical-align: middle;\n",
       "    }\n",
       "\n",
       "    .dataframe tbody tr th {\n",
       "        vertical-align: top;\n",
       "    }\n",
       "\n",
       "    .dataframe thead th {\n",
       "        text-align: right;\n",
       "    }\n",
       "</style>\n",
       "<table border=\"1\" class=\"dataframe\">\n",
       "  <thead>\n",
       "    <tr style=\"text-align: right;\">\n",
       "      <th></th>\n",
       "      <th>const</th>\n",
       "      <th>TV</th>\n",
       "    </tr>\n",
       "  </thead>\n",
       "  <tbody>\n",
       "    <tr>\n",
       "      <th>74</th>\n",
       "      <td>1.0</td>\n",
       "      <td>213.4</td>\n",
       "    </tr>\n",
       "    <tr>\n",
       "      <th>3</th>\n",
       "      <td>1.0</td>\n",
       "      <td>151.5</td>\n",
       "    </tr>\n",
       "    <tr>\n",
       "      <th>185</th>\n",
       "      <td>1.0</td>\n",
       "      <td>205.0</td>\n",
       "    </tr>\n",
       "    <tr>\n",
       "      <th>26</th>\n",
       "      <td>1.0</td>\n",
       "      <td>142.9</td>\n",
       "    </tr>\n",
       "    <tr>\n",
       "      <th>90</th>\n",
       "      <td>1.0</td>\n",
       "      <td>134.3</td>\n",
       "    </tr>\n",
       "  </tbody>\n",
       "</table>\n",
       "</div>"
      ],
      "text/plain": [
       "     const     TV\n",
       "74     1.0  213.4\n",
       "3      1.0  151.5\n",
       "185    1.0  205.0\n",
       "26     1.0  142.9\n",
       "90     1.0  134.3"
      ]
     },
     "execution_count": 25,
     "metadata": {},
     "output_type": "execute_result"
    }
   ],
   "source": [
    "# analyzing the X_train after addition of constant\n",
    "X_train_sm.head()"
   ]
  },
  {
   "cell_type": "code",
   "execution_count": 26,
   "metadata": {},
   "outputs": [],
   "source": [
    "# Building the model using statsmodel\n",
    "slg_model = sm.OLS(y_train, X_train_sm)\n",
    "# it results in model object"
   ]
  },
  {
   "cell_type": "code",
   "execution_count": 27,
   "metadata": {},
   "outputs": [
    {
     "data": {
      "text/plain": [
       "<statsmodels.regression.linear_model.OLS at 0x1c1e6f01cc0>"
      ]
     },
     "execution_count": 27,
     "metadata": {},
     "output_type": "execute_result"
    }
   ],
   "source": [
    "slg_model"
   ]
  },
  {
   "cell_type": "code",
   "execution_count": 29,
   "metadata": {},
   "outputs": [],
   "source": [
    "# upon this model we need to fit the line\n",
    "slg_model = slg_model.fit()"
   ]
  },
  {
   "cell_type": "code",
   "execution_count": 30,
   "metadata": {},
   "outputs": [
    {
     "data": {
      "text/plain": [
       "const    6.948683\n",
       "TV       0.054546\n",
       "dtype: float64"
      ]
     },
     "execution_count": 30,
     "metadata": {},
     "output_type": "execute_result"
    }
   ],
   "source": [
    "# checking the parameters or coefficients of the model\n",
    "slg_model.params"
   ]
  },
  {
   "cell_type": "code",
   "execution_count": 31,
   "metadata": {},
   "outputs": [
    {
     "data": {
      "text/html": [
       "<table class=\"simpletable\">\n",
       "<caption>OLS Regression Results</caption>\n",
       "<tr>\n",
       "  <th>Dep. Variable:</th>          <td>Sales</td>      <th>  R-squared:         </th> <td>   0.816</td>\n",
       "</tr>\n",
       "<tr>\n",
       "  <th>Model:</th>                   <td>OLS</td>       <th>  Adj. R-squared:    </th> <td>   0.814</td>\n",
       "</tr>\n",
       "<tr>\n",
       "  <th>Method:</th>             <td>Least Squares</td>  <th>  F-statistic:       </th> <td>   611.2</td>\n",
       "</tr>\n",
       "<tr>\n",
       "  <th>Date:</th>             <td>Wed, 08 Apr 2020</td> <th>  Prob (F-statistic):</th> <td>1.52e-52</td>\n",
       "</tr>\n",
       "<tr>\n",
       "  <th>Time:</th>                 <td>21:41:29</td>     <th>  Log-Likelihood:    </th> <td> -321.12</td>\n",
       "</tr>\n",
       "<tr>\n",
       "  <th>No. Observations:</th>      <td>   140</td>      <th>  AIC:               </th> <td>   646.2</td>\n",
       "</tr>\n",
       "<tr>\n",
       "  <th>Df Residuals:</th>          <td>   138</td>      <th>  BIC:               </th> <td>   652.1</td>\n",
       "</tr>\n",
       "<tr>\n",
       "  <th>Df Model:</th>              <td>     1</td>      <th>                     </th>     <td> </td>   \n",
       "</tr>\n",
       "<tr>\n",
       "  <th>Covariance Type:</th>      <td>nonrobust</td>    <th>                     </th>     <td> </td>   \n",
       "</tr>\n",
       "</table>\n",
       "<table class=\"simpletable\">\n",
       "<tr>\n",
       "    <td></td>       <th>coef</th>     <th>std err</th>      <th>t</th>      <th>P>|t|</th>  <th>[0.025</th>    <th>0.975]</th>  \n",
       "</tr>\n",
       "<tr>\n",
       "  <th>const</th> <td>    6.9487</td> <td>    0.385</td> <td>   18.068</td> <td> 0.000</td> <td>    6.188</td> <td>    7.709</td>\n",
       "</tr>\n",
       "<tr>\n",
       "  <th>TV</th>    <td>    0.0545</td> <td>    0.002</td> <td>   24.722</td> <td> 0.000</td> <td>    0.050</td> <td>    0.059</td>\n",
       "</tr>\n",
       "</table>\n",
       "<table class=\"simpletable\">\n",
       "<tr>\n",
       "  <th>Omnibus:</th>       <td> 0.027</td> <th>  Durbin-Watson:     </th> <td>   2.196</td>\n",
       "</tr>\n",
       "<tr>\n",
       "  <th>Prob(Omnibus):</th> <td> 0.987</td> <th>  Jarque-Bera (JB):  </th> <td>   0.150</td>\n",
       "</tr>\n",
       "<tr>\n",
       "  <th>Skew:</th>          <td>-0.006</td> <th>  Prob(JB):          </th> <td>   0.928</td>\n",
       "</tr>\n",
       "<tr>\n",
       "  <th>Kurtosis:</th>      <td> 2.840</td> <th>  Cond. No.          </th> <td>    328.</td>\n",
       "</tr>\n",
       "</table><br/><br/>Warnings:<br/>[1] Standard Errors assume that the covariance matrix of the errors is correctly specified."
      ],
      "text/plain": [
       "<class 'statsmodels.iolib.summary.Summary'>\n",
       "\"\"\"\n",
       "                            OLS Regression Results                            \n",
       "==============================================================================\n",
       "Dep. Variable:                  Sales   R-squared:                       0.816\n",
       "Model:                            OLS   Adj. R-squared:                  0.814\n",
       "Method:                 Least Squares   F-statistic:                     611.2\n",
       "Date:                Wed, 08 Apr 2020   Prob (F-statistic):           1.52e-52\n",
       "Time:                        21:41:29   Log-Likelihood:                -321.12\n",
       "No. Observations:                 140   AIC:                             646.2\n",
       "Df Residuals:                     138   BIC:                             652.1\n",
       "Df Model:                           1                                         \n",
       "Covariance Type:            nonrobust                                         \n",
       "==============================================================================\n",
       "                 coef    std err          t      P>|t|      [0.025      0.975]\n",
       "------------------------------------------------------------------------------\n",
       "const          6.9487      0.385     18.068      0.000       6.188       7.709\n",
       "TV             0.0545      0.002     24.722      0.000       0.050       0.059\n",
       "==============================================================================\n",
       "Omnibus:                        0.027   Durbin-Watson:                   2.196\n",
       "Prob(Omnibus):                  0.987   Jarque-Bera (JB):                0.150\n",
       "Skew:                          -0.006   Prob(JB):                        0.928\n",
       "Kurtosis:                       2.840   Cond. No.                         328.\n",
       "==============================================================================\n",
       "\n",
       "Warnings:\n",
       "[1] Standard Errors assume that the covariance matrix of the errors is correctly specified.\n",
       "\"\"\""
      ]
     },
     "execution_count": 31,
     "metadata": {},
     "output_type": "execute_result"
    }
   ],
   "source": [
    "# checking the summary statistics of the model\n",
    "slg_model.summary()"
   ]
  },
  {
   "cell_type": "markdown",
   "metadata": {},
   "source": [
    "##### Few important parameters to be taken into consideration from slg_model.summary()\n",
    "- The coefficients and the p values associate with the coefficients. As per the hypothesis testing on the significance of the coefficients the p values should be very small less than 0.05 then the coefficients are said to be significant. If they are significant then it can be said that there exists some statistical relation between then independent variable and dependent variable. The important coefficient to be taken into consideration is slope.<br><br>\n",
    "\n",
    "- In order to check the coefficient significance of predictor variable we need to perform indiviual hypothesis testing and then conclude based on comparsion with p value and significance level. Instead of such latergy process we can take use to Prob(F-stats) value. If the Prob(F-stats) is less than 0.05 then we can say that the overall model is significant. This value is important to be taken into consideration because sometimes there might be case where all the model paramters are significant but the model collectively is insigificant. Such case occurs that the line fitted happened on a chance.<br><br>\n",
    "\n",
    "- Similary the F-Statistics value needs to be large enough.<br><br>\n",
    "\n",
    "- R squared value is also an important parameter needs to be taken into consideration as it represents how much percentage or the proportion of the variability in y is explained by x. Smaller values indicated that only small variance of y is explained by x or the line. which means that the line fit is not an best fit line. On the other hand higher the R squared value indicates that most of the variance is explained by x or the line. Which further means that the line is the best fit representation of the scatter plot and also an measure to evaluate the predicted value obtained from the test data. 0 R squared value means that no variance is being explained by the line or the x variable. Which further means that the fitted line is no meaning."
   ]
  },
  {
   "cell_type": "code",
   "execution_count": 33,
   "metadata": {},
   "outputs": [
    {
     "data": {
      "image/png": "[encoded data removed]",
      "text/plain": [
       "<Figure size 432x288 with 1 Axes>"
      ]
     },
     "metadata": {
      "needs_background": "light"
     },
     "output_type": "display_data"
    }
   ],
   "source": [
    "# plotting the line along with scatter plot\n",
    "plt.scatter(X_train, y_train)\n",
    "plt.plot(X_train, 6.9487+0.0545*X_train, 'r')\n",
    "plt.show()"
   ]
  },
  {
   "cell_type": "markdown",
   "metadata": {},
   "source": [
    "##### Residual analysis and Evaluation of the model using regression metrics\n",
    "- Residual analysis is neccessary to check whether all the error terms are normally             distributed around mean zero for every Xi term which involved checking of one of the         assumption. The assumption check of normal distribution of error terms can be done by\n",
    "  plotting histrogram plot using seaborn or matplotlib libraries.<br><br>\n",
    "- Next step is to check for the other assumption of independent nature of error terms. This is   can be done by plotting scatter plot between error terms and any of the X and y variables.   If there exists any pattern in distribution then it indicates that the error terms are not   independent of each other. If doesn't exists any visible pattern then it inidicates that     the error terms of independent of each other.<br><br>\n",
    "- Evalvation of the model meaning checking how good the line has fit for the scatter plot and   also how good in predicting the test values. Evaluation of the model can be done using MSE   (Mean Square Error) which determines mean of the square of the variation between actual y\n",
    "  terms and predicted y values. Lower the value the better the line fits the model. Higher       MSE value indicates that there are many values away from the line which indirectly means     that the line is not a good fit or best fit for the model.<br><br>\n",
    "- MSE is an absolute value which changes when any of the units of the predictor variable         changes and also the units are squared in calculating MSE hence we need a relative better\n",
    "  metric to evaluate the model. We can use R-squared value which is an realtive value and is     the best metric in measuring the goodness of the fit. Also we can compute RMSE value which   is also an absolute value but results in better value than MSE.<br><br>\n",
    "- R-squared value describes how many variance in y variable is being explained by the line or   the X variable. Higher the R value the better the line fit of the model.<br><br>\n",
    "- There are some other absolute evaluation metrics for asscessing goodness of fit, such as MAE   and RSE. MAE stands for Mean Absolute Error which computes the mean of residuals and RSE     stands for Residual Square Error, which determines square root of RSS divided by degrees of   freedom. Here df = n-2; where n is number of observations."
   ]
  },
  {
   "cell_type": "code",
   "execution_count": 34,
   "metadata": {},
   "outputs": [
    {
     "data": {
      "text/plain": [
       "126      7.8\n",
       "104    238.2\n",
       "99     135.2\n",
       "92     217.7\n",
       "111    241.7\n",
       "Name: TV, dtype: float64"
      ]
     },
     "execution_count": 34,
     "metadata": {},
     "output_type": "execute_result"
    }
   ],
   "source": [
    "# analyzing the X_test and y_test variables\n",
    "X_test.head()"
   ]
  },
  {
   "cell_type": "code",
   "execution_count": 36,
   "metadata": {},
   "outputs": [
    {
     "data": {
      "text/plain": [
       "126     6.6\n",
       "104    20.7\n",
       "99     17.2\n",
       "92     19.4\n",
       "111    21.8\n",
       "Name: Sales, dtype: float64"
      ]
     },
     "execution_count": 36,
     "metadata": {},
     "output_type": "execute_result"
    }
   ],
   "source": [
    "y_test.head()"
   ]
  },
  {
   "cell_type": "code",
   "execution_count": 37,
   "metadata": {},
   "outputs": [
    {
     "data": {
      "text/html": [
       "<div>\n",
       "<style scoped>\n",
       "    .dataframe tbody tr th:only-of-type {\n",
       "        vertical-align: middle;\n",
       "    }\n",
       "\n",
       "    .dataframe tbody tr th {\n",
       "        vertical-align: top;\n",
       "    }\n",
       "\n",
       "    .dataframe thead th {\n",
       "        text-align: right;\n",
       "    }\n",
       "</style>\n",
       "<table border=\"1\" class=\"dataframe\">\n",
       "  <thead>\n",
       "    <tr style=\"text-align: right;\">\n",
       "      <th></th>\n",
       "      <th>const</th>\n",
       "      <th>TV</th>\n",
       "    </tr>\n",
       "  </thead>\n",
       "  <tbody>\n",
       "    <tr>\n",
       "      <th>126</th>\n",
       "      <td>1.0</td>\n",
       "      <td>7.8</td>\n",
       "    </tr>\n",
       "    <tr>\n",
       "      <th>104</th>\n",
       "      <td>1.0</td>\n",
       "      <td>238.2</td>\n",
       "    </tr>\n",
       "    <tr>\n",
       "      <th>99</th>\n",
       "      <td>1.0</td>\n",
       "      <td>135.2</td>\n",
       "    </tr>\n",
       "    <tr>\n",
       "      <th>92</th>\n",
       "      <td>1.0</td>\n",
       "      <td>217.7</td>\n",
       "    </tr>\n",
       "    <tr>\n",
       "      <th>111</th>\n",
       "      <td>1.0</td>\n",
       "      <td>241.7</td>\n",
       "    </tr>\n",
       "  </tbody>\n",
       "</table>\n",
       "</div>"
      ],
      "text/plain": [
       "     const     TV\n",
       "126    1.0    7.8\n",
       "104    1.0  238.2\n",
       "99     1.0  135.2\n",
       "92     1.0  217.7\n",
       "111    1.0  241.7"
      ]
     },
     "execution_count": 37,
     "metadata": {},
     "output_type": "execute_result"
    }
   ],
   "source": [
    "# adding constant to X_test same as X_train\n",
    "X_test_sm = sm.add_constant(X_test)\n",
    "X_test_sm.head()"
   ]
  },
  {
   "cell_type": "code",
   "execution_count": 48,
   "metadata": {},
   "outputs": [
    {
     "data": {
      "text/plain": [
       "126     7.374140\n",
       "104    19.941482\n",
       "99     14.323269\n",
       "92     18.823294\n",
       "111    20.132392\n",
       "dtype: float64"
      ]
     },
     "execution_count": 48,
     "metadata": {},
     "output_type": "execute_result"
    }
   ],
   "source": [
    "# calculating the y_pred using the model for the test data\n",
    "y_test_pred = slg_model.predict(X_test_sm)\n",
    "y_test_pred.head()"
   ]
  },
  {
   "cell_type": "code",
   "execution_count": 49,
   "metadata": {},
   "outputs": [
    {
     "data": {
      "text/plain": [
       "126   -0.774140\n",
       "104    0.758518\n",
       "99     2.876731\n",
       "92     0.576706\n",
       "111    1.667608\n",
       "dtype: float64"
      ]
     },
     "execution_count": 49,
     "metadata": {},
     "output_type": "execute_result"
    }
   ],
   "source": [
    "# calculating the residuals\n",
    "# these residuals are the error terms\n",
    "res = y_test - y_pred\n",
    "res.head()"
   ]
  },
  {
   "cell_type": "code",
   "execution_count": 50,
   "metadata": {},
   "outputs": [
    {
     "data": {
      "text/plain": [
       "<matplotlib.axes._subplots.AxesSubplot at 0x1c1e37f5ac8>"
      ]
     },
     "execution_count": 50,
     "metadata": {},
     "output_type": "execute_result"
    },
    {
     "data": {
      "image/png": "[encoded data removed]",
      "text/plain": [
       "<Figure size 432x288 with 1 Axes>"
      ]
     },
     "metadata": {
      "needs_background": "light"
     },
     "output_type": "display_data"
    }
   ],
   "source": [
    "# checking whether these residuals are normally distributed or not\n",
    "# plotting histogram to check\n",
    "sns.distplot(res)"
   ]
  },
  {
   "cell_type": "markdown",
   "metadata": {},
   "source": [
    "From the above plot we can see that the error terms are normally distributed across the mean set to zero. Hence this assumption is satisfied. Now let's check for the other assumptions:"
   ]
  },
  {
   "cell_type": "code",
   "execution_count": 51,
   "metadata": {},
   "outputs": [
    {
     "data": {
      "text/plain": [
       "<matplotlib.axes._subplots.AxesSubplot at 0x1c1e6b91fd0>"
      ]
     },
     "execution_count": 51,
     "metadata": {},
     "output_type": "execute_result"
    },
    {
     "data": {
      "image/png": "[encoded data removed]",
      "text/plain": [
       "<Figure size 432x288 with 1 Axes>"
      ]
     },
     "metadata": {
      "needs_background": "light"
     },
     "output_type": "display_data"
    }
   ],
   "source": [
    "# checking the distribution of residuals with X_test\n",
    "sns.scatterplot(X_test, res)"
   ]
  },
  {
   "cell_type": "markdown",
   "metadata": {},
   "source": [
    "From the above plot we can observe that there is no visible pattern available. Hence we can conclude that there is no dependencies between the error terms. Although the residuals for some higher X_test values is higher as there might be some higher residuals in sales whish is not captured by the regression line. But overall you can infer that there doesn't exists any visible pattern."
   ]
  },
  {
   "cell_type": "code",
   "execution_count": 52,
   "metadata": {},
   "outputs": [
    {
     "data": {
      "text/plain": [
       "<matplotlib.axes._subplots.AxesSubplot at 0x1c1e7411710>"
      ]
     },
     "execution_count": 52,
     "metadata": {},
     "output_type": "execute_result"
    },
    {
     "data": {
      "image/png": "[encoded data removed]",
      "text/plain": [
       "<Figure size 432x288 with 1 Axes>"
      ]
     },
     "metadata": {
      "needs_background": "light"
     },
     "output_type": "display_data"
    }
   ],
   "source": [
    "# plotting the scatter plot between X_test and y_test\n",
    "sns.scatterplot(X_test,y_test)"
   ]
  },
  {
   "cell_type": "code",
   "execution_count": 53,
   "metadata": {},
   "outputs": [
    {
     "data": {
      "image/png": "[encoded data removed]",
      "text/plain": [
       "<Figure size 432x288 with 1 Axes>"
      ]
     },
     "metadata": {
      "needs_background": "light"
     },
     "output_type": "display_data"
    }
   ],
   "source": [
    "# fitting model equation on top of he scatter plot of the test data\n",
    "plt.figure()\n",
    "sns.scatterplot(X_test, y_test)\n",
    "plt.plot(X_test,6.9487+0.0545*X_test, 'r' )\n",
    "plt.show()"
   ]
  },
  {
   "cell_type": "code",
   "execution_count": 54,
   "metadata": {},
   "outputs": [],
   "source": [
    "# evaluation of the test sample using metrics\n",
    "# importing neccessary libraries for calculation of metrics\n",
    "from sklearn.metrics import mean_squared_error\n",
    "from sklearn.metrics import r2_score"
   ]
  },
  {
   "cell_type": "code",
   "execution_count": 56,
   "metadata": {},
   "outputs": [
    {
     "data": {
      "text/plain": [
       "4.077556371826956"
      ]
     },
     "execution_count": 56,
     "metadata": {},
     "output_type": "execute_result"
    }
   ],
   "source": [
    "# calculating mean_squared_error which is an abdolute of error calculation\n",
    "MSE = mean_squared_error(y_test, y_test_pred)\n",
    "MSE"
   ]
  },
  {
   "cell_type": "markdown",
   "metadata": {},
   "source": [
    "Evalvation of the line using RMSE is little unpredictable hence we prefer in caluclating R-square value as it is an relative value and also an best metric in determining the goodness of fit."
   ]
  },
  {
   "cell_type": "code",
   "execution_count": 61,
   "metadata": {},
   "outputs": [
    {
     "data": {
      "text/plain": [
       "2.019296008966233"
      ]
     },
     "execution_count": 61,
     "metadata": {},
     "output_type": "execute_result"
    }
   ],
   "source": [
    "# calculating RMSE for the test data\n",
    "rmse_value = np.sqrt(MSE)\n",
    "rmse_value"
   ]
  },
  {
   "cell_type": "code",
   "execution_count": 60,
   "metadata": {},
   "outputs": [
    {
     "data": {
      "text/plain": [
       "0.7921031601245658"
      ]
     },
     "execution_count": 60,
     "metadata": {},
     "output_type": "execute_result"
    }
   ],
   "source": [
    "# calculating the R-squared value for the test data\n",
    "r2_value_test = r2_score(y_test, y_test_pred)\n",
    "r2_value_test"
   ]
  },
  {
   "cell_type": "code",
   "execution_count": 59,
   "metadata": {},
   "outputs": [
    {
     "data": {
      "text/plain": [
       "0.8157933136480389"
      ]
     },
     "execution_count": 59,
     "metadata": {},
     "output_type": "execute_result"
    }
   ],
   "source": [
    "# calculating r2_score for the training data.\n",
    "# although we can obtained using summary statistics but lets just calculate and compare the values\n",
    "y_train_pred = slg_model.predict(X_train_sm)\n",
    "y_train_pred.head()\n",
    "r2_value_train = r2_score(y_train, y_train_pred)\n",
    "r2_value_train"
   ]
  },
  {
   "cell_type": "markdown",
   "metadata": {},
   "source": [
    "Upon comparison between the values we can see that the r-squared values are very close to each other it indicates that the model best fits on training and the test data. Hence the model can be used for prediction of new values related to this subject meaning can be able to predict the estimate sales value for an x amount of investment in advertising through TV platform as the model is also significant."
   ]
  },
  {
   "cell_type": "markdown",
   "metadata": {},
   "source": [
    "#### Simple Linear Regression model building using sklearn library.\n",
    "-  Model building using sklearn can be done when needed to know only about the model paramter   and the intercept. \n",
    "- Model building using sklearn will not give summary statisctical analysis like statsmodel.     hence we may not be knowing the model is significant or not. we will be just knowing the     parameters.\n",
    "- Hence model building using sklearn needs to be used when there is an direct requirement of     calculation of the parameters.\n",
    "- But sklearn is an industry frequent used library. Some companies prefer to know even the       summary statistics and some don't want when the assumptions of the linear regression are     met."
   ]
  },
  {
   "cell_type": "code",
   "execution_count": 62,
   "metadata": {},
   "outputs": [],
   "source": [
    "# importing neccesaary library for model building using linear regression\n",
    "from sklearn.linear_model import LinearRegression"
   ]
  },
  {
   "cell_type": "code",
   "execution_count": 65,
   "metadata": {},
   "outputs": [],
   "source": [
    "# Create same split of the data using train_test_split() method\n",
    "X_train, X_test, y_train, y_test = train_test_split(X, y, train_size = 0.70, test_size = 0.30, random_state = 100)"
   ]
  },
  {
   "cell_type": "code",
   "execution_count": 66,
   "metadata": {},
   "outputs": [
    {
     "name": "stdout",
     "output_type": "stream",
     "text": [
      "(140,)\n"
     ]
    }
   ],
   "source": [
    "# since we can used the same seed it should be producing the same values of X_train, X_test, y_train and y_test\n",
    "X_train.head()\n",
    "print(X_train.shape)"
   ]
  },
  {
   "cell_type": "code",
   "execution_count": 64,
   "metadata": {},
   "outputs": [],
   "source": [
    "# now create a linear model using the above method\n",
    "slg_another_model = LinearRegression()"
   ]
  },
  {
   "cell_type": "markdown",
   "metadata": {},
   "source": [
    "-  Now fit the variables into the model: \n",
    "- slg_another_model = slg_another_model.fit(X_train, y_train) == when executed will get and     below error: \n",
    "- there occurs one error when fitting the variables into the model as the arguments to be       entered.\n",
    "- into the table should be in the form of an array. Hence convert the X_train and X_test into   array form."
   ]
  },
  {
   "cell_type": "code",
   "execution_count": 70,
   "metadata": {},
   "outputs": [
    {
     "data": {
      "text/plain": [
       "array([213.4, 151.5, 205. , 142.9, 134.3,  80.2, 239.8,  88.3,  19.4,\n",
       "       225.8, 136.2,  25.1,  38. , 172.5, 109.8, 240.1, 232.1,  66.1,\n",
       "       218.4, 234.5,  23.8,  67.8, 296.4, 141.3, 175.1, 220.5,  76.4,\n",
       "       253.8, 191.1, 287.6, 100.4, 228. , 125.7,  74.7,  57.5, 262.7,\n",
       "       262.9, 237.4, 227.2, 199.8, 228.3, 290.7, 276.9, 199.8, 239.3,\n",
       "        73.4, 284.3, 147.3, 224. , 198.9, 276.7,  13.2,  11.7, 280.2,\n",
       "        39.5, 265.6,  27.5, 280.7,  78.2, 163.3, 213.5, 293.6,  18.7,\n",
       "        75.5, 166.8,  44.7, 109.8,   8.7, 266.9, 206.9, 149.8,  19.6,\n",
       "        36.9, 199.1, 265.2, 165.6, 140.3, 230.1,   5.4,  17.9, 237.4,\n",
       "       286. ,  93.9, 292.9,  25. ,  97.5,  26.8, 281.4,  69.2,  43.1,\n",
       "       255.4, 239.9, 209.6,   7.3, 240.1, 102.7, 243.2, 137.9,  18.8,\n",
       "        17.2,  76.4, 139.5, 261.3,  66.9,  48.3, 177. ,  28.6, 180.8,\n",
       "       222.4, 193.7,  59.6, 131.7,   8.4,  13.1,   4.1,   0.7,  76.3,\n",
       "       250.9, 273.7,  96.2, 210.8,  53.5,  90.4, 104.6, 283.6,  95.7,\n",
       "       204.1,  31.5, 182.6, 289.7, 156.6, 107.4,  43. , 248.4, 116. ,\n",
       "       110.7, 187.9, 139.3,  62.3,   8.6])"
      ]
     },
     "execution_count": 70,
     "metadata": {},
     "output_type": "execute_result"
    }
   ],
   "source": [
    "# X_train and X_test are in series, need to convert into arrays.\n",
    "X_train_array = np.array(X_train)\n",
    "X_test_array = np.array(X_test)\n",
    "X_train_array"
   ]
  },
  {
   "cell_type": "code",
   "execution_count": 71,
   "metadata": {},
   "outputs": [
    {
     "name": "stdout",
     "output_type": "stream",
     "text": [
      "(140,)\n",
      "(60,)\n"
     ]
    }
   ],
   "source": [
    "# Checking the shape of the arrays\n",
    "print(X_train_array.shape)\n",
    "print(X_test_array.shape)"
   ]
  },
  {
   "cell_type": "markdown",
   "metadata": {},
   "source": [
    "We need to convert them into two dimensional format hence reshape the array."
   ]
  },
  {
   "cell_type": "code",
   "execution_count": 73,
   "metadata": {},
   "outputs": [],
   "source": [
    "# reshaping the array\n",
    "X_train_array = X_train_array.reshape(140,1)\n",
    "X_test_array = X_test_array.reshape(60,1)"
   ]
  },
  {
   "cell_type": "code",
   "execution_count": 74,
   "metadata": {},
   "outputs": [
    {
     "name": "stdout",
     "output_type": "stream",
     "text": [
      "(140, 1)\n",
      "(60, 1)\n"
     ]
    }
   ],
   "source": [
    "# now again checking the shape of the arrays after reshaping\n",
    "print(X_train_array.shape)\n",
    "print(X_test_array.shape)"
   ]
  },
  {
   "cell_type": "markdown",
   "metadata": {},
   "source": [
    "Now in this format the variables can be inserted as an arguments to fit into model"
   ]
  },
  {
   "cell_type": "code",
   "execution_count": 75,
   "metadata": {},
   "outputs": [],
   "source": [
    "slg_another_model = slg_another_model.fit(X_train_array, y_train)"
   ]
  },
  {
   "cell_type": "code",
   "execution_count": 81,
   "metadata": {},
   "outputs": [
    {
     "name": "stdout",
     "output_type": "stream",
     "text": [
      "0.05454575291590796\n",
      "6.948683200001357\n"
     ]
    }
   ],
   "source": [
    "# we can check for the parameters like model coefficients and the intercept paramter\n",
    "print(slg_another_model.coef_[0]) # as the output is in type of array\n",
    "print(slg_another_model.intercept_)"
   ]
  },
  {
   "cell_type": "code",
   "execution_count": 84,
   "metadata": {},
   "outputs": [],
   "source": [
    "# making predictions using the model\n",
    "y_test_pred = slg_another_model.predict(X_test_array)\n",
    "y_train_pred = slg_another_model.predict(X_train_array)"
   ]
  },
  {
   "cell_type": "code",
   "execution_count": 86,
   "metadata": {},
   "outputs": [
    {
     "data": {
      "text/plain": [
       "array([ 7.37414007, 19.94148154, 14.32326899, 18.82329361, 20.13239168,\n",
       "       18.2287449 , 14.54145201, 17.72692398, 18.75238413, 18.77420243,\n",
       "       13.34144544, 19.46693349, 10.01415451, 17.1923756 , 11.70507285,\n",
       "       12.08689312, 15.11418241, 16.23237035, 15.8669138 , 13.1068987 ,\n",
       "       18.65965635, 14.00690363, 17.60692332, 16.60328147, 17.03419291,\n",
       "       18.96511257, 18.93783969, 11.05597839, 17.03419291, 13.66326538,\n",
       "       10.6796127 , 10.71234015, 13.5487193 , 17.22510305,  9.67597085,\n",
       "       13.52144643, 12.25053038, 16.13418799, 19.07965865, 17.48692266,\n",
       "       18.69783838, 16.53237199, 15.92145955, 18.86693021, 13.5050827 ,\n",
       "       11.84143724,  7.87050642, 20.51966653, 10.79961336,  9.03233096,\n",
       "       17.99419817, 16.29237067, 11.04506924, 14.09963141, 18.44147334,\n",
       "        9.3759692 ,  7.88687015,  8.34505447, 17.72692398, 11.62325422])"
      ]
     },
     "execution_count": 86,
     "metadata": {},
     "output_type": "execute_result"
    }
   ],
   "source": [
    "# analyzing the predicted values of the test data set\n",
    "y_test_pred"
   ]
  },
  {
   "cell_type": "code",
   "execution_count": 87,
   "metadata": {},
   "outputs": [
    {
     "data": {
      "text/plain": [
       "array([18.58874687, 15.21236477, 18.13056255, 14.74327129, 14.27417782,\n",
       "       11.32325258, 20.02875475, 11.76507318,  8.00687081, 19.26511421,\n",
       "       14.37781475,  8.3177816 ,  9.02142181, 16.35782558, 12.93780687,\n",
       "       20.04511848, 19.60875245, 10.55415747, 18.86147564, 19.73966226,\n",
       "        8.24687212, 10.64688525, 23.11604436, 14.65599809, 16.49964454,\n",
       "       18.97602172, 11.11597872, 20.79239529, 17.37237658, 22.63604174,\n",
       "       12.42507679, 19.38511486, 13.80508434, 11.02325094, 10.08506399,\n",
       "       21.27785249, 21.28876164, 19.89784494, 19.34147826, 17.84692463,\n",
       "       19.40147859, 22.80513357, 22.05240218, 17.84692463, 20.00148187,\n",
       "       10.95234146, 22.45604075, 14.9832726 , 19.16693185, 17.79783345,\n",
       "       22.04149303,  7.66868714,  7.58686851, 22.23240317,  9.10324044,\n",
       "       21.43603517,  8.44869141, 22.25967604, 11.21416108, 15.85600465,\n",
       "       18.59420145, 22.96331626,  7.96868878, 11.06688755, 16.04691479,\n",
       "        9.38687836, 12.93780687,  7.42323125, 21.50694465, 18.23419948,\n",
       "       15.11963699,  8.01777996,  8.96142148, 17.80874261, 21.41421687,\n",
       "       15.98145988, 14.60145233, 19.49966095,  7.24323027,  7.92505218,\n",
       "       19.89784494, 22.54876853, 12.0705294 , 22.92513423,  8.31232702,\n",
       "       12.26689411,  8.41050938, 22.29785807, 10.7232493 ,  9.29960515,\n",
       "       20.87966849, 20.03420932, 18.38147301,  7.3468672 , 20.04511848,\n",
       "       12.55053202, 20.21421031, 14.47054253,  7.97414335,  7.88687015,\n",
       "       11.11597872, 14.55781573, 21.20148844, 10.59779407,  9.58324307,\n",
       "       16.60328147,  8.50869173, 16.81055533, 19.07965865, 17.51419554,\n",
       "       10.19961007, 14.13235886,  7.40686752,  7.66323256,  7.17232079,\n",
       "        6.98686523, 11.11052415, 20.63421261, 21.87785577, 12.19598463,\n",
       "       18.44692791,  9.86688098, 11.87961926, 12.65416896, 22.41785873,\n",
       "       12.16871175, 18.08147137,  8.66687442, 16.90873768, 22.75058782,\n",
       "       15.49054811, 12.80689706,  9.29415058, 20.49784822, 13.27599054,\n",
       "       12.98689805, 17.19783017, 14.54690658, 10.34688361,  7.41777668])"
      ]
     },
     "execution_count": 87,
     "metadata": {},
     "output_type": "execute_result"
    }
   ],
   "source": [
    "# analyzing the y_train_pred values\n",
    "y_train_pred"
   ]
  },
  {
   "cell_type": "code",
   "execution_count": 90,
   "metadata": {},
   "outputs": [
    {
     "name": "stdout",
     "output_type": "stream",
     "text": [
      "0.7921031601245662\n",
      "0.8157933136480389\n"
     ]
    }
   ],
   "source": [
    "# evalvating the model using r2_score\n",
    "print(r2_score(y_test, y_test_pred))\n",
    "print(r2_score(y_train, y_train_pred))"
   ]
  },
  {
   "cell_type": "markdown",
   "metadata": {},
   "source": [
    "From the above we can see that the r2 scores for the test and training data are very much close to each other it indicates that model holds good for both test and the train dataset. Alos these are the same values which are obtained by performing the modle building analysis using statsmodel library."
   ]
  }
 ],
 "metadata": {
  "kernelspec": {
   "display_name": "Python 3",
   "language": "python",
   "name": "python3"
  },
  "language_info": {
   "codemirror_mode": {
    "name": "ipython",
    "version": 3
   },
   "file_extension": ".py",
   "mimetype": "text/x-python",
   "name": "python",
   "nbconvert_exporter": "python",
   "pygments_lexer": "ipython3",
   "version": "3.7.1"
  }
 },
 "nbformat": 4,
 "nbformat_minor": 2
}
